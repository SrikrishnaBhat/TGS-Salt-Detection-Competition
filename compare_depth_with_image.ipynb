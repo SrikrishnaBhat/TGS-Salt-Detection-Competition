{
 "cells": [
  {
   "cell_type": "code",
   "execution_count": 2,
   "metadata": {},
   "outputs": [
    {
     "name": "stderr",
     "output_type": "stream",
     "text": [
      "/usr/lib/python3.5/importlib/_bootstrap.py:222: RuntimeWarning: numpy.dtype size changed, may indicate binary incompatibility. Expected 96, got 88\n",
      "  return f(*args, **kwds)\n"
     ]
    }
   ],
   "source": [
    "import numpy as np\n",
    "import pandas as pd"
   ]
  },
  {
   "cell_type": "code",
   "execution_count": 3,
   "metadata": {},
   "outputs": [],
   "source": [
    "depth_df = pd.read_csv('depths.csv')\n",
    "depth_array = depth_df.values"
   ]
  },
  {
   "cell_type": "code",
   "execution_count": 4,
   "metadata": {},
   "outputs": [],
   "source": [
    "wss = []"
   ]
  },
  {
   "cell_type": "code",
   "execution_count": 54,
   "metadata": {},
   "outputs": [],
   "source": [
    "import os\n",
    "import shutil"
   ]
  },
  {
   "cell_type": "code",
   "execution_count": 65,
   "metadata": {},
   "outputs": [],
   "source": [
    "train_lists = os.listdir('train/images')\n",
    "train_files = [os.path.splitext(f)[0] for f in train_lists ]"
   ]
  },
  {
   "cell_type": "code",
   "execution_count": 66,
   "metadata": {},
   "outputs": [],
   "source": [
    "training_array = np.zeros((0, 2))\n",
    "\n",
    "for file in train_files:\n",
    "    training_array = np.append(training_array, depth_array[depth_array[:, 0] == file, :], axis=0)"
   ]
  },
  {
   "cell_type": "code",
   "execution_count": 71,
   "metadata": {},
   "outputs": [],
   "source": [
    "def compute_wss(clusters, centres):\n",
    "    wss = 0\n",
    "    for i in range(len(centres)):\n",
    "        curr_cluster = clusters[clusters[:, 1]==(i+1), 0]\n",
    "        wss += sum((curr_cluster - centres[i])**2)\n",
    "    return wss"
   ]
  },
  {
   "cell_type": "code",
   "execution_count": 72,
   "metadata": {},
   "outputs": [],
   "source": [
    "from sklearn.cluster import KMeans"
   ]
  },
  {
   "cell_type": "code",
   "execution_count": 73,
   "metadata": {},
   "outputs": [],
   "source": [
    "wss = []\n",
    "cluster_list = []\n",
    "for k in range(2, 40):\n",
    "    kmeans_transformer = KMeans(k)\n",
    "    cluster_list.append(\n",
    "        kmeans_transformer.fit_predict(\n",
    "            training_array[:, 1].reshape(-1, 1)\n",
    "        ).tolist()\n",
    "    )\n",
    "    clusters = np.append(\n",
    "        training_array[:, 1].reshape(-1, 1),\n",
    "        np.array(cluster_list[-1]).reshape(-1, 1),\n",
    "        axis=1\n",
    "    )\n",
    "    wss.append(compute_wss(clusters, kmeans_transformer.cluster_centers_))"
   ]
  },
  {
   "cell_type": "code",
   "execution_count": 74,
   "metadata": {},
   "outputs": [
    {
     "name": "stdout",
     "output_type": "stream",
     "text": [
      "[255180168.64728808, 365924341.7554668, 334062159.47636795, 451183317.0701703, 481349411.62585956, 283058832.22135997, 488075825.2842603, 440985761.5446354, 498895376.0877875, 597772379.127065, 517396305.8799669, 476775953.31685436, 343880129.4967005, 424449065.81742406, 483403870.84031963, 517954788.870815, 620452133.0617486, 484469126.6055602, 569125146.5514673, 346483104.05254465, 500280964.8721319, 470076501.51865256, 478358750.24387205, 495346882.6469751, 545914074.0996593, 452180148.6972679, 385348023.67185116, 521765159.32291144, 441905609.34401596, 533590992.63109463, 427157845.66735053, 391995958.0770867, 492747370.5476442, 477408712.43485147, 457681100.2703242, 372020820.2821451, 477095134.13976187, 436886172.7727644]\n"
     ]
    }
   ],
   "source": [
    "print(wss)"
   ]
  },
  {
   "cell_type": "code",
   "execution_count": 78,
   "metadata": {},
   "outputs": [],
   "source": [
    "depth_max = np.max(training_array[:, 1])\n",
    "depth_min = np.min(training_array[:, 1])"
   ]
  },
  {
   "cell_type": "code",
   "execution_count": 79,
   "metadata": {},
   "outputs": [],
   "source": [
    "train_images = 'train/images'\n",
    "train_masks = 'train/masks'"
   ]
  },
  {
   "cell_type": "code",
   "execution_count": 82,
   "metadata": {},
   "outputs": [],
   "source": [
    "num_groups = 10\n",
    "interval = int((depth_max - depth_min)/10)"
   ]
  },
  {
   "cell_type": "code",
   "execution_count": 93,
   "metadata": {},
   "outputs": [],
   "source": [
    "interval_list = list(range(depth_min, depth_max, interval))\n",
    "interval_list[-1] = depth_max+1"
   ]
  },
  {
   "cell_type": "code",
   "execution_count": 97,
   "metadata": {},
   "outputs": [],
   "source": [
    "data_list = []\n",
    "\n",
    "for i in range(num_groups):\n",
    "    new_train_image_dir = os.path.join('train', '{}-{}'.format(interval_list[i], interval_list[i+1]), 'images')\n",
    "    new_train_mask_dir = os.path.join('train', '{}-{}'.format(interval_list[i], interval_list[i+1]), 'masks')\n",
    "    lower = interval_list[i]\n",
    "    upper = interval_list[i+1]\n",
    "    image_list = training_array[(training_array[:, 1]>=lower) & (training_array[:, 1]<upper), 0].tolist()\n",
    "    if os.path.exists(new_train_image_dir):\n",
    "        shutil.rmtree(new_train_image_dir)\n",
    "    if os.path.exists(new_train_mask_dir):\n",
    "        shutil.rmtree(new_train_mask_dir)\n",
    "    os.makedirs(new_train_image_dir)\n",
    "    os.makedirs(new_train_mask_dir)\n",
    "    for image_name in image_list:\n",
    "        shutil.copy2(os.path.join(train_images, image_name + '.png'), new_train_image_dir)\n",
    "        shutil.copy2(os.path.join(train_masks, image_name + '.png'), new_train_mask_dir)"
   ]
  },
  {
   "cell_type": "code",
   "execution_count": 63,
   "metadata": {},
   "outputs": [
    {
     "data": {
      "text/plain": [
       "10"
      ]
     },
     "execution_count": 63,
     "metadata": {},
     "output_type": "execute_result"
    }
   ],
   "source": [
    "len(data_list)"
   ]
  },
  {
   "cell_type": "code",
   "execution_count": null,
   "metadata": {},
   "outputs": [],
   "source": [
    "for i in range()"
   ]
  }
 ],
 "metadata": {
  "kernelspec": {
   "display_name": "Python 3",
   "language": "python",
   "name": "python3"
  },
  "language_info": {
   "codemirror_mode": {
    "name": "ipython",
    "version": 3
   },
   "file_extension": ".py",
   "mimetype": "text/x-python",
   "name": "python",
   "nbconvert_exporter": "python",
   "pygments_lexer": "ipython3",
   "version": "3.5.2"
  }
 },
 "nbformat": 4,
 "nbformat_minor": 2
}
